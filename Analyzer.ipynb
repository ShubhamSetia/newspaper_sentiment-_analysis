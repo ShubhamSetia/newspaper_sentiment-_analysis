{
 "cells": [
  {
   "cell_type": "code",
   "execution_count": 1,
   "metadata": {
    "collapsed": true
   },
   "outputs": [],
   "source": [
    "# importing textblob\n",
    "from textblob import TextBlob"
   ]
  },
  {
   "cell_type": "code",
   "execution_count": 2,
   "metadata": {
    "collapsed": true
   },
   "outputs": [],
   "source": [
    "#importing NaiveBayesAnalyzer\n",
    "from textblob.sentiments import NaiveBayesAnalyzer"
   ]
  },
  {
   "cell_type": "code",
   "execution_count": 5,
   "metadata": {
    "collapsed": true
   },
   "outputs": [],
   "source": [
    "import csv\n",
    "from os import path"
   ]
  },
  {
   "cell_type": "code",
   "execution_count": 7,
   "metadata": {
    "collapsed": false
   },
   "outputs": [],
   "source": [
    "l =[]\n",
    "s=[]\n",
    "#d = path.dirname(__file__)"
   ]
  },
  {
   "cell_type": "code",
   "execution_count": null,
   "metadata": {
    "collapsed": true
   },
   "outputs": [],
   "source": [
    "#storing result\n",
    "with open('hindustan_times.csv','r') as f:\n",
    "    reader= csv.reader(f)\n",
    "    for row in reader:\n",
    "        #print(row[1])\n",
    "        s.append(row[0])#article headings\n",
    "        l.append(row[1])#articles"
   ]
  },
  {
   "cell_type": "code",
   "execution_count": 10,
   "metadata": {
    "collapsed": true
   },
   "outputs": [],
   "source": [
    "t1=[]\n",
    "t2 = []"
   ]
  },
  {
   "cell_type": "code",
   "execution_count": 19,
   "metadata": {
    "collapsed": false
   },
   "outputs": [
    {
     "name": "stdout",
     "output_type": "stream",
     "text": [
      "Sentiment(classification='pos', p_pos=0.6176470588235293, p_neg=0.38235294117647056)\n",
      "Sentiment(classification='pos', p_pos=0.9999999798503239, p_neg=2.0149716329970923e-08)\n",
      "Sentiment(classification='pos', p_pos=0.9999518916397336, p_neg=4.810836027584019e-05)\n",
      "Sentiment(classification='pos', p_pos=0.9505920659860321, p_neg=0.04940793401395929)\n",
      "Sentiment(classification='pos', p_pos=0.9967942654210277, p_neg=0.003205734578952656)\n",
      "Sentiment(classification='pos', p_pos=0.9999999507434157, p_neg=4.9256588222711594e-08)\n",
      "Sentiment(classification='neg', p_pos=0.4128212456708201, p_neg=0.5871787543291792)\n",
      "Sentiment(classification='pos', p_pos=0.9999999804385786, p_neg=1.9561422095432695e-08)\n",
      "Sentiment(classification='pos', p_pos=0.9975171731008668, p_neg=0.0024828268991330393)\n",
      "Sentiment(classification='pos', p_pos=1.0, p_neg=2.918617047629906e-17)\n",
      "Sentiment(classification='pos', p_pos=0.9999999999884162, p_neg=1.1625313348091998e-11)\n",
      "Sentiment(classification='pos', p_pos=0.8593091632529417, p_neg=0.1406908367470579)\n",
      "Sentiment(classification='pos', p_pos=0.999999999996848, p_neg=3.146449506468715e-12)\n",
      "Sentiment(classification='pos', p_pos=0.9956702210512159, p_neg=0.004329778948786448)\n",
      "Sentiment(classification='pos', p_pos=0.9999999999884162, p_neg=1.1584816028873274e-11)\n",
      "Sentiment(classification='pos', p_pos=0.9999797444910044, p_neg=2.025550900639535e-05)\n",
      "Sentiment(classification='pos', p_pos=1.0, p_neg=3.8566059330735684e-24)\n",
      "Sentiment(classification='pos', p_pos=0.9999999950960907, p_neg=4.9039032809214094e-09)\n",
      "Sentiment(classification='pos', p_pos=0.999999489549163, p_neg=5.104508304347164e-07)\n",
      "Sentiment(classification='pos', p_pos=0.9999999805953153, p_neg=1.9404648787033803e-08)\n",
      "Sentiment(classification='pos', p_pos=1.0, p_neg=2.150820962402922e-14)\n",
      "Sentiment(classification='pos', p_pos=0.854824406486217, p_neg=0.14517559351378684)\n",
      "Sentiment(classification='pos', p_pos=0.9995667266497551, p_neg=0.00043327335025876223)\n",
      "Sentiment(classification='pos', p_pos=1.0, p_neg=1.789885673804278e-18)\n",
      "Sentiment(classification='pos', p_pos=0.9999999998377472, p_neg=1.6225870468348886e-10)\n",
      "Sentiment(classification='pos', p_pos=1.0, p_neg=7.711893784869685e-18)\n",
      "Sentiment(classification='pos', p_pos=0.9999999999986604, p_neg=1.3406063903392672e-12)\n",
      "Sentiment(classification='pos', p_pos=0.9999998771600785, p_neg=1.2283991319540527e-07)\n",
      "Sentiment(classification='pos', p_pos=0.9969631180592726, p_neg=0.003036881940721193)\n",
      "Sentiment(classification='pos', p_pos=1.0, p_neg=3.347011835424256e-17)\n",
      "Sentiment(classification='pos', p_pos=0.9999999321196568, p_neg=6.788033489859787e-08)\n",
      "Sentiment(classification='pos', p_pos=0.9999999999996848, p_neg=3.789152715145075e-13)\n",
      "Sentiment(classification='pos', p_pos=0.8593091632529417, p_neg=0.1406908367470579)\n",
      "Sentiment(classification='pos', p_pos=0.9999999370892864, p_neg=6.2910708751932e-08)\n",
      "Sentiment(classification='pos', p_pos=0.9999999990242772, p_neg=9.757313154854722e-10)\n",
      "Sentiment(classification='pos', p_pos=1.0, p_neg=5.001338550501461e-16)\n",
      "Sentiment(classification='neg', p_pos=0.3863648789786668, p_neg=0.6136351210213358)\n",
      "Sentiment(classification='pos', p_pos=1.0, p_neg=3.246490423336151e-16)\n",
      "Sentiment(classification='pos', p_pos=1.0, p_neg=2.352502848053692e-19)\n",
      "Sentiment(classification='pos', p_pos=0.9999999999992908, p_neg=6.739063120342234e-13)\n",
      "Sentiment(classification='pos', p_pos=0.9999999999988968, p_neg=1.0754678626049435e-12)\n",
      "Sentiment(classification='pos', p_pos=0.999999999999606, p_neg=3.75523574464659e-13)\n",
      "Sentiment(classification='neg', p_pos=0.17421026957163588, p_neg=0.8257897304283631)\n",
      "Sentiment(classification='pos', p_pos=0.985629555955039, p_neg=0.014370444044961257)\n",
      "Sentiment(classification='pos', p_pos=0.9999999999998423, p_neg=1.7688064340513033e-13)\n",
      "Sentiment(classification='pos', p_pos=0.930676514189709, p_neg=0.06932348581029527)\n",
      "Sentiment(classification='pos', p_pos=1.0, p_neg=4.137355668444626e-25)\n",
      "Sentiment(classification='pos', p_pos=0.9999999993169467, p_neg=6.830326352533865e-10)\n",
      "Sentiment(classification='pos', p_pos=0.9705583886911388, p_neg=0.02944161130887441)\n",
      "Sentiment(classification='pos', p_pos=0.999999999999212, p_neg=8.641972842311977e-13)\n",
      "Sentiment(classification='pos', p_pos=0.9999999786251149, p_neg=2.137488417542511e-08)\n",
      "Sentiment(classification='pos', p_pos=0.9999999998582357, p_neg=1.417628197415458e-10)\n",
      "Sentiment(classification='pos', p_pos=1.0, p_neg=1.0980628890239783e-25)\n",
      "Sentiment(classification='pos', p_pos=1.0, p_neg=3.657279944787079e-23)\n",
      "Sentiment(classification='pos', p_pos=0.5998975289392776, p_neg=0.40010247106072117)\n",
      "Sentiment(classification='pos', p_pos=0.9999832923095309, p_neg=1.670769046308478e-05)\n",
      "Sentiment(classification='pos', p_pos=0.996135937707699, p_neg=0.0038640622922223892)\n",
      "Sentiment(classification='neg', p_pos=0.17421026957163588, p_neg=0.8257897304283631)\n",
      "Sentiment(classification='neg', p_pos=0.17421026957163588, p_neg=0.8257897304283631)\n",
      "Sentiment(classification='pos', p_pos=1.0, p_neg=3.400499960131875e-14)\n",
      "Sentiment(classification='pos', p_pos=0.9999946597146189, p_neg=5.340285372550773e-06)\n",
      "Sentiment(classification='pos', p_pos=0.9955431752764302, p_neg=0.004456824723587528)\n",
      "Sentiment(classification='pos', p_pos=0.9999999999983452, p_neg=1.624269013835713e-12)\n",
      "Sentiment(classification='pos', p_pos=0.9999999014081503, p_neg=9.859185522667981e-08)\n",
      "Sentiment(classification='pos', p_pos=0.9999999999952719, p_neg=4.743288229621337e-12)\n",
      "Sentiment(classification='pos', p_pos=1.0, p_neg=2.7478823560437157e-17)\n",
      "Sentiment(classification='neg', p_pos=0.14110001549358767, p_neg=0.8588999845064148)\n",
      "Sentiment(classification='pos', p_pos=1.0, p_neg=2.0530545346286304e-18)\n",
      "Sentiment(classification='pos', p_pos=1.0, p_neg=1.8445263475203423e-35)\n",
      "Sentiment(classification='pos', p_pos=0.9999999998834522, p_neg=1.16571859896378e-10)\n",
      "Sentiment(classification='pos', p_pos=1.0, p_neg=9.83391191658967e-19)\n",
      "Sentiment(classification='pos', p_pos=1.0, p_neg=1.1922041417449072e-15)\n",
      "Sentiment(classification='pos', p_pos=0.9999999999997636, p_neg=2.16532835523044e-13)\n",
      "Sentiment(classification='pos', p_pos=1.0, p_neg=5.501480374693316e-19)\n",
      "Sentiment(classification='pos', p_pos=1.0, p_neg=5.617785249167363e-24)\n",
      "Sentiment(classification='pos', p_pos=0.9889320720948068, p_neg=0.01106792790517429)\n",
      "Sentiment(classification='pos', p_pos=0.9999999999867614, p_neg=1.3220885940849964e-11)\n",
      "Sentiment(classification='pos', p_pos=0.9999999844412327, p_neg=1.555875574464487e-08)\n",
      "Sentiment(classification='pos', p_pos=1.0, p_neg=1.1065918067511625e-19)\n",
      "Sentiment(classification='pos', p_pos=0.9999999999872341, p_neg=1.2739563075627068e-11)\n",
      "Sentiment(classification='pos', p_pos=0.985629555955039, p_neg=0.014370444044961257)\n",
      "Sentiment(classification='neg', p_pos=0.17421026957163588, p_neg=0.8257897304283631)\n",
      "Sentiment(classification='pos', p_pos=0.9999426015352599, p_neg=5.739846474968727e-05)\n",
      "Sentiment(classification='pos', p_pos=0.9649213424942308, p_neg=0.03507865750576979)\n",
      "Sentiment(classification='pos', p_pos=0.9999999999936171, p_neg=6.416659417292036e-12)\n",
      "Sentiment(classification='pos', p_pos=0.9999999999597323, p_neg=4.028572183098747e-11)\n",
      "Sentiment(classification='pos', p_pos=0.965593079546399, p_neg=0.03440692045361587)\n",
      "Sentiment(classification='pos', p_pos=0.9999999541127403, p_neg=4.588722315491886e-08)\n",
      "Sentiment(classification='pos', p_pos=0.997370144147629, p_neg=0.0026298558523530986)\n",
      "Sentiment(classification='pos', p_pos=1.0, p_neg=3.152298278483979e-19)\n",
      "Sentiment(classification='pos', p_pos=0.9999999998562656, p_neg=1.4377420857378398e-10)\n",
      "Sentiment(classification='pos', p_pos=0.999850446100663, p_neg=0.00014955389936799387)\n",
      "Sentiment(classification='neg', p_pos=0.17421026957163588, p_neg=0.8257897304283631)\n",
      "Sentiment(classification='pos', p_pos=1.0, p_neg=4.395125138494207e-21)\n",
      "Sentiment(classification='pos', p_pos=1.0, p_neg=9.820001295064518e-15)\n",
      "Sentiment(classification='pos', p_pos=0.9996922430096002, p_neg=0.0003077569904088067)\n",
      "Sentiment(classification='pos', p_pos=0.9996754521661231, p_neg=0.0003245478338612907)\n",
      "Sentiment(classification='pos', p_pos=0.999999431184195, p_neg=5.688158159319365e-07)\n",
      "Sentiment(classification='pos', p_pos=0.9999999999928291, p_neg=7.2051325054402585e-12)\n",
      "Sentiment(classification='pos', p_pos=0.853502461850651, p_neg=0.14649753814935007)\n",
      "Sentiment(classification='pos', p_pos=0.9999999999995272, p_neg=4.903868253366795e-13)\n",
      "Sentiment(classification='pos', p_pos=1.0, p_neg=8.244471493247302e-22)\n",
      "Sentiment(classification='pos', p_pos=0.9999999999994484, p_neg=5.699530410650583e-13)\n",
      "Sentiment(classification='pos', p_pos=1.0, p_neg=1.5773597030022789e-15)\n",
      "Sentiment(classification='pos', p_pos=0.9999340990743513, p_neg=6.590092564099082e-05)\n",
      "Sentiment(classification='pos', p_pos=1.0, p_neg=1.7323917270162044e-15)\n",
      "Sentiment(classification='pos', p_pos=0.7091588100133278, p_neg=0.2908411899866857)\n",
      "Sentiment(classification='pos', p_pos=1.0, p_neg=4.489176145550173e-22)\n",
      "Sentiment(classification='pos', p_pos=0.9999999999727346, p_neg=2.733774738675631e-11)\n",
      "Sentiment(classification='pos', p_pos=0.9986986920388131, p_neg=0.0013013079611914455)\n",
      "Sentiment(classification='pos', p_pos=0.9999999999993696, p_neg=6.653662064744913e-13)\n",
      "Sentiment(classification='pos', p_pos=1.0, p_neg=6.818758659653401e-17)\n",
      "Sentiment(classification='pos', p_pos=0.999999999896297, p_neg=1.0371860160943814e-10)\n",
      "Sentiment(classification='pos', p_pos=1.0, p_neg=5.69442917239624e-20)\n",
      "Sentiment(classification='pos', p_pos=1.0, p_neg=1.6952236363071224e-21)\n"
     ]
    }
   ],
   "source": [
    "for text in l[:]:\n",
    "    #print(text)\n",
    "    analysis = TextBlob(text,analyzer=NaiveBayesAnalyzer())\n",
    "    print(analysis.sentiment)\n",
    "    a=analysis.sentiment.p_pos\n",
    "    b=analysis.sentiment.p_neg\n",
    "    t1.append(a)\n",
    "    t2.append(b)\n"
   ]
  },
  {
   "cell_type": "code",
   "execution_count": 21,
   "metadata": {
    "collapsed": false
   },
   "outputs": [],
   "source": [
    "#print(statistics.mean(t1),statistics.mean(t2))\n",
    "with open('result.csv','w') as f:\n",
    "    w= csv.writer(f)\n",
    "    for i in range(len(l)):\n",
    "        a=[s[i],l[i],t1[i],t2[i]]\n",
    "        w.writerow(a)"
   ]
  },
  {
   "cell_type": "code",
   "execution_count": null,
   "metadata": {
    "collapsed": true
   },
   "outputs": [],
   "source": []
  }
 ],
 "metadata": {
  "kernelspec": {
   "display_name": "Python [conda root]",
   "language": "python",
   "name": "conda-root-py"
  },
  "language_info": {
   "codemirror_mode": {
    "name": "ipython",
    "version": 3
   },
   "file_extension": ".py",
   "mimetype": "text/x-python",
   "name": "python",
   "nbconvert_exporter": "python",
   "pygments_lexer": "ipython3",
   "version": "3.5.2"
  }
 },
 "nbformat": 4,
 "nbformat_minor": 2
}
